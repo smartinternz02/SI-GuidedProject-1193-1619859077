{
 "cells": [
  {
   "cell_type": "code",
   "execution_count": 1,
   "metadata": {},
   "outputs": [],
   "source": [
    "from tensorflow.keras.models import Sequential\n",
    "from tensorflow.keras.layers import Dense\n",
    "from tensorflow.keras.layers import Convolution2D\n",
    "from tensorflow.keras.layers import MaxPooling2D\n",
    "from tensorflow.keras.layers import Flatten\n"
   ]
  },
  {
   "cell_type": "code",
   "execution_count": 2,
   "metadata": {},
   "outputs": [
    {
     "name": "stderr",
     "output_type": "stream",
     "text": [
      "Using TensorFlow backend.\n"
     ]
    }
   ],
   "source": [
    "from keras.preprocessing.image import ImageDataGenerator\n",
    "train_datagen= ImageDataGenerator(rescale=1./255,shear_range =0.2,zoom_range=0.2,horizontal_flip=True)\n",
    "test_datagen= ImageDataGenerator(rescale=1./255)"
   ]
  },
  {
   "cell_type": "code",
   "execution_count": 3,
   "metadata": {},
   "outputs": [
    {
     "name": "stdout",
     "output_type": "stream",
     "text": [
      "Found 248 images belonging to 5 classes.\n",
      "Found 368 images belonging to 5 classes.\n"
     ]
    }
   ],
   "source": [
    "x_train = train_datagen.flow_from_directory(r\"C:\\Users\\win10\\OneDrive\\Desktop\\5_6149743253420770116\\crop-things data\\trainset\",target_size = (64,64),batch_size = 32, class_mode =\"categorical\")\n",
    "x_test = test_datagen.flow_from_directory(r\"C:\\Users\\win10\\OneDrive\\Desktop\\5_6149743253420770116\\crop-things data\\testset\",target_size = (64,64),batch_size = 32, class_mode =\"categorical\")"
   ]
  },
  {
   "cell_type": "code",
   "execution_count": 4,
   "metadata": {},
   "outputs": [],
   "source": [
    "model = Sequential()"
   ]
  },
  {
   "cell_type": "code",
   "execution_count": 5,
   "metadata": {},
   "outputs": [
    {
     "name": "stdout",
     "output_type": "stream",
     "text": [
      "WARNING:tensorflow:From C:\\Users\\win10\\Anaconda3\\lib\\site-packages\\tensorflow\\python\\ops\\init_ops.py:1251: calling VarianceScaling.__init__ (from tensorflow.python.ops.init_ops) with dtype is deprecated and will be removed in a future version.\n",
      "Instructions for updating:\n",
      "Call initializer instance with the dtype argument instead of passing it to the constructor\n"
     ]
    }
   ],
   "source": [
    "model.add(Convolution2D(32,(3,3), input_shape=(64,64,3),activation =\"relu\"))"
   ]
  },
  {
   "cell_type": "code",
   "execution_count": 6,
   "metadata": {},
   "outputs": [],
   "source": [
    "model.add(MaxPooling2D(2,2))"
   ]
  },
  {
   "cell_type": "code",
   "execution_count": 7,
   "metadata": {},
   "outputs": [],
   "source": [
    "model.add(Flatten())"
   ]
  },
  {
   "cell_type": "code",
   "execution_count": 8,
   "metadata": {},
   "outputs": [
    {
     "name": "stdout",
     "output_type": "stream",
     "text": [
      "WARNING:tensorflow:From C:\\Users\\win10\\Anaconda3\\lib\\site-packages\\tensorflow\\python\\keras\\initializers.py:119: calling RandomUniform.__init__ (from tensorflow.python.ops.init_ops) with dtype is deprecated and will be removed in a future version.\n",
      "Instructions for updating:\n",
      "Call initializer instance with the dtype argument instead of passing it to the constructor\n"
     ]
    }
   ],
   "source": [
    "model.add(Dense(units=512,activation=\"relu\",kernel_initializer = \"random_uniform\"))"
   ]
  },
  {
   "cell_type": "code",
   "execution_count": 9,
   "metadata": {},
   "outputs": [],
   "source": [
    "model.add(Dense(units=5,activation=\"softmax\",kernel_initializer = \"random_uniform\"))"
   ]
  },
  {
   "cell_type": "code",
   "execution_count": 10,
   "metadata": {},
   "outputs": [],
   "source": [
    "model.compile(\"sgd\",loss =\"categorical_crossentropy\",metrics=[\"accuracy\"])"
   ]
  },
  {
   "cell_type": "code",
   "execution_count": 11,
   "metadata": {},
   "outputs": [
    {
     "name": "stdout",
     "output_type": "stream",
     "text": [
      "Epoch 1/10\n",
      "47/47 [==============================] - 53s 1s/step - loss: 1.1835 - acc: 0.4100 - val_loss: 1.4417 - val_acc: 0.2853\n",
      "Epoch 2/10\n",
      "47/47 [==============================] - 53s 1s/step - loss: 1.0931 - acc: 0.4224 - val_loss: 1.4777 - val_acc: 0.2933\n",
      "Epoch 3/10\n",
      "47/47 [==============================] - 51s 1s/step - loss: 1.0712 - acc: 0.4093 - val_loss: 1.3736 - val_acc: 0.3157\n",
      "Epoch 4/10\n",
      "47/47 [==============================] - 52s 1s/step - loss: 1.0366 - acc: 0.4290 - val_loss: 1.3017 - val_acc: 0.3654\n",
      "Epoch 5/10\n",
      "47/47 [==============================] - 50s 1s/step - loss: 1.0199 - acc: 0.4183 - val_loss: 1.2500 - val_acc: 0.3590\n",
      "Epoch 6/10\n",
      "47/47 [==============================] - 50s 1s/step - loss: 0.9914 - acc: 0.4499 - val_loss: 1.1220 - val_acc: 0.4311\n",
      "Epoch 7/10\n",
      "47/47 [==============================] - 50s 1s/step - loss: 0.9660 - acc: 0.4505 - val_loss: 1.0143 - val_acc: 0.4567\n",
      "Epoch 8/10\n",
      "47/47 [==============================] - 48s 1s/step - loss: 0.9305 - acc: 0.4698 - val_loss: 1.0270 - val_acc: 0.4455\n",
      "Epoch 9/10\n",
      "47/47 [==============================] - 48s 1s/step - loss: 0.9148 - acc: 0.4802 - val_loss: 0.9848 - val_acc: 0.4696\n",
      "Epoch 10/10\n",
      "47/47 [==============================] - 55s 1s/step - loss: 0.8906 - acc: 0.4786 - val_loss: 0.8771 - val_acc: 0.5962\n"
     ]
    },
    {
     "data": {
      "text/plain": [
       "<tensorflow.python.keras.callbacks.History at 0x130e8050240>"
      ]
     },
     "execution_count": 11,
     "metadata": {},
     "output_type": "execute_result"
    }
   ],
   "source": [
    "model.fit_generator(x_train,steps_per_epoch=47,epochs=10,validation_data= x_test, validation_steps =20)"
   ]
  },
  {
   "cell_type": "code",
   "execution_count": 14,
   "metadata": {},
   "outputs": [],
   "source": [
    "model.save(\"things.h5\")"
   ]
  },
  {
   "cell_type": "code",
   "execution_count": 15,
   "metadata": {},
   "outputs": [
    {
     "data": {
      "text/plain": [
       "'D:\\\\geethanjaliexternship'"
      ]
     },
     "execution_count": 15,
     "metadata": {},
     "output_type": "execute_result"
    }
   ],
   "source": [
    "pwd\n"
   ]
  },
  {
   "cell_type": "code",
   "execution_count": null,
   "metadata": {},
   "outputs": [],
   "source": []
  }
 ],
 "metadata": {
  "kernelspec": {
   "display_name": "Python 3",
   "language": "python",
   "name": "python3"
  },
  "language_info": {
   "codemirror_mode": {
    "name": "ipython",
    "version": 3
   },
   "file_extension": ".py",
   "mimetype": "text/x-python",
   "name": "python",
   "nbconvert_exporter": "python",
   "pygments_lexer": "ipython3",
   "version": "3.7.3"
  }
 },
 "nbformat": 4,
 "nbformat_minor": 2
}
